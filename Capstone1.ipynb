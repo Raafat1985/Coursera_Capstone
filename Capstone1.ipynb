import pandas as pd
import numpy as np
print ("This file will be used for the capstone project")
print ("Hello Capstone Project Course!")
